{
 "cells": [
  {
   "cell_type": "markdown",
   "id": "cbffa1a8-82ab-4dd8-b012-d00bdd6ea80e",
   "metadata": {},
   "source": [
    "# Data Science Tools and Ecosystem"
   ]
  },
  {
   "cell_type": "markdown",
   "id": "48e098bc-9607-4bbb-89e0-313255457352",
   "metadata": {
    "tags": []
   },
   "source": [
    "In this notebook, Data Science Tools and Ecosystem are summarized."
   ]
  },
  {
   "cell_type": "markdown",
   "id": "c6b52591-a0ad-43ec-b1de-badf1fc73d7c",
   "metadata": {},
   "source": [
    "**Objectives:**\n",
    "- List popular languages for Data Science.\n",
    "- List commonly used libraries used by Data Scientists.\n",
    "- Table showing data science tools.\n",
    "- Evaluate arithmetic expressions."
   ]
  },
  {
   "cell_type": "markdown",
   "id": "36901365-098a-403a-861a-cdbd5929734f",
   "metadata": {},
   "source": [
    "Some of the popular languages that Data Scientists use are:\n",
    "1. Python\n",
    "2. R\n",
    "3. SQL\n",
    "4. Scala\n",
    "5. Java\n",
    "6. C++\n",
    "7. Julia\n",
    "\n"
   ]
  },
  {
   "cell_type": "markdown",
   "id": "ab4ed375-50f7-43e0-9f32-0bb01dd73e84",
   "metadata": {},
   "source": [
    "Some of the commonly used libraries used by Data Scientists include:\n",
    "1. Pandas\n",
    "2. NumPy\n",
    "3. Matplotlib\n",
    "4. Scikit-learn\n",
    "5. Keras\n",
    "\n"
   ]
  },
  {
   "cell_type": "markdown",
   "id": "cb9fd45c-d643-4851-b0df-b1ccb1efb2fb",
   "metadata": {},
   "source": [
    "|Data Science Tools|\n",
    "|----|\n",
    "|Jupyter|\n",
    "|RStudio|\n",
    "|Spyder|\n"
   ]
  },
  {
   "cell_type": "markdown",
   "id": "654d3b90-2d6b-4501-b69c-739b1844c27c",
   "metadata": {},
   "source": [
    "### Below are a few examples of evaluating arithmetic expressions in Python."
   ]
  },
  {
   "cell_type": "code",
   "execution_count": 2,
   "id": "3acc4dfa-5bea-4e32-8701-d7b2f5414400",
   "metadata": {
    "tags": []
   },
   "outputs": [
    {
     "data": {
      "text/plain": [
       "17"
      ]
     },
     "execution_count": 2,
     "metadata": {},
     "output_type": "execute_result"
    }
   ],
   "source": [
    "\"This a simple arithmetic expression to mutiplythen add integers.\"\n",
    "(3*4)+5\n"
   ]
  },
  {
   "cell_type": "code",
   "execution_count": 4,
   "id": "0876beb6-1524-454a-925d-f9d6a7bbecc2",
   "metadata": {
    "tags": []
   },
   "outputs": [
    {
     "data": {
      "text/plain": [
       "3.3333333333333335"
      ]
     },
     "execution_count": 4,
     "metadata": {},
     "output_type": "execute_result"
    }
   ],
   "source": [
    "\"This will convert 200 minutes to hours by diving by 60.\"\n",
    "200/60"
   ]
  },
  {
   "cell_type": "markdown",
   "id": "9f105ad3-6806-4cd2-bb5c-393a5fb8e811",
   "metadata": {},
   "source": [
    "## Author\n",
    "Mohit Bawa"
   ]
  },
  {
   "cell_type": "code",
   "execution_count": null,
   "id": "f96284e7-b06d-466d-9bbd-5d87893f7364",
   "metadata": {},
   "outputs": [],
   "source": []
  }
 ],
 "metadata": {
  "kernelspec": {
   "display_name": "Python",
   "language": "python",
   "name": "conda-env-python-py"
  },
  "language_info": {
   "codemirror_mode": {
    "name": "ipython",
    "version": 3
   },
   "file_extension": ".py",
   "mimetype": "text/x-python",
   "name": "python",
   "nbconvert_exporter": "python",
   "pygments_lexer": "ipython3",
   "version": "3.7.12"
  }
 },
 "nbformat": 4,
 "nbformat_minor": 5
}
